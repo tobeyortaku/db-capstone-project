{
 "cells": [
  {
   "cell_type": "code",
   "execution_count": 2,
   "metadata": {},
   "outputs": [],
   "source": [
    "import pandas as pd\n",
    "import numpy as np"
   ]
  },
  {
   "cell_type": "code",
   "execution_count": 4,
   "metadata": {},
   "outputs": [
    {
     "name": "stdout",
     "output_type": "stream",
     "text": [
      "Requirement already satisfied: mysql-connector-python in c:\\users\\lenovo-ideapad 330s\\appdata\\local\\programs\\python\\python310\\lib\\site-packages (8.0.28)\n",
      "Collecting protobuf>=3.0.0 (from mysql-connector-python)\n",
      "  Downloading protobuf-4.24.0-cp310-abi3-win_amd64.whl (430 kB)\n",
      "                                              0.0/430.5 kB ? eta -:--:--\n",
      "     --                                    30.7/430.5 kB 660.6 kB/s eta 0:00:01\n",
      "     --                                    30.7/430.5 kB 660.6 kB/s eta 0:00:01\n",
      "     -----                                 61.4/430.5 kB 409.6 kB/s eta 0:00:01\n",
      "     ---------                            112.6/430.5 kB 656.4 kB/s eta 0:00:01\n",
      "     ---------                            112.6/430.5 kB 656.4 kB/s eta 0:00:01\n",
      "     ----------------                     194.6/430.5 kB 787.7 kB/s eta 0:00:01\n",
      "     --------------------                 245.8/430.5 kB 885.4 kB/s eta 0:00:01\n",
      "     -----------------------              286.7/430.5 kB 842.9 kB/s eta 0:00:01\n",
      "     -----------------------------        358.4/430.5 kB 969.8 kB/s eta 0:00:01\n",
      "     ------------------------------       368.6/430.5 kB 955.7 kB/s eta 0:00:01\n",
      "     -----------------------------------  430.1/430.5 kB 958.5 kB/s eta 0:00:01\n",
      "     ------------------------------------ 430.5/430.5 kB 868.3 kB/s eta 0:00:00\n",
      "Installing collected packages: protobuf\n",
      "Successfully installed protobuf-4.24.0\n"
     ]
    },
    {
     "name": "stderr",
     "output_type": "stream",
     "text": [
      "\n",
      "[notice] A new release of pip is available: 23.1.2 -> 23.2.1\n",
      "[notice] To update, run: python.exe -m pip install --upgrade pip\n"
     ]
    }
   ],
   "source": [
    "!pip install mysql-connector-python"
   ]
  },
  {
   "cell_type": "code",
   "execution_count": 5,
   "metadata": {},
   "outputs": [],
   "source": [
    "import mysql.connector as connector"
   ]
  },
  {
   "cell_type": "code",
   "execution_count": 8,
   "metadata": {},
   "outputs": [],
   "source": [
    "connection=connector.connect(host=\"127.0.0.1\",user=\"root\",password=\"\", db = 'littlelemondb')"
   ]
  },
  {
   "cell_type": "code",
   "execution_count": 9,
   "metadata": {},
   "outputs": [],
   "source": [
    "cursor = connection.cursor()"
   ]
  },
  {
   "cell_type": "code",
   "execution_count": 10,
   "metadata": {},
   "outputs": [],
   "source": [
    "show_tables_query = \"SHOW tables\" \n",
    "cursor.execute(show_tables_query)"
   ]
  },
  {
   "cell_type": "code",
   "execution_count": 13,
   "metadata": {},
   "outputs": [
    {
     "name": "stdout",
     "output_type": "stream",
     "text": [
      "('Tables_in_littlelemondb',)\n",
      "('bookings',)\n",
      "('customer',)\n",
      "('menu',)\n",
      "('order_delivery_status',)\n",
      "('orders',)\n",
      "('ordersview',)\n",
      "('staff',)\n"
     ]
    }
   ],
   "source": [
    "results=cursor.fetchall()\n",
    "columns=cursor.column_names\n",
    "print(columns)\n",
    "for result in results:\n",
    "    print(result)"
   ]
  },
  {
   "cell_type": "code",
   "execution_count": 14,
   "metadata": {},
   "outputs": [
    {
     "name": "stdout",
     "output_type": "stream",
     "text": [
      "('order_id', 'date', 'quantity', 'total_cost', 'delivery_id', 'menu_item_id', 'booking_id', 'staff_id', 'customer_id')\n"
     ]
    }
   ],
   "source": [
    "show_tables_query = \"select * from Orders\" \n",
    "cursor.execute(show_tables_query)\n",
    "results=cursor.fetchall()\n",
    "columns=cursor.column_names\n",
    "print(columns)\n",
    "for result in results:\n",
    "    print(result)"
   ]
  },
  {
   "cell_type": "code",
   "execution_count": 16,
   "metadata": {},
   "outputs": [
    {
     "name": "stdout",
     "output_type": "stream",
     "text": [
      "('customer_id', 'name', 'email', 'phone')\n"
     ]
    }
   ],
   "source": [
    "show_tables_query = \"select * from customer\" \n",
    "cursor.execute(show_tables_query)\n",
    "results=cursor.fetchall()\n",
    "columns=cursor.column_names\n",
    "print(columns)\n",
    "for result in results:\n",
    "    print(result)"
   ]
  },
  {
   "cell_type": "code",
   "execution_count": 18,
   "metadata": {},
   "outputs": [
    {
     "name": "stdout",
     "output_type": "stream",
     "text": [
      "('order_id', 'date', 'quantity', 'total_cost', 'delivery_id', 'menu_item_id', 'booking_id', 'staff_id', 'customer_id', 'customer_id', 'name', 'email', 'phone')\n"
     ]
    }
   ],
   "source": [
    "show_tables_query = \"select * from orders o left join customer c on o.customer_id = c.customer_id group by o.customer_id having sum(total_cost)>60\" \n",
    "cursor.execute(show_tables_query)\n",
    "results=cursor.fetchall()\n",
    "columns=cursor.column_names\n",
    "print(columns)\n",
    "for result in results:\n",
    "    print(result)"
   ]
  },
  {
   "cell_type": "code",
   "execution_count": null,
   "metadata": {},
   "outputs": [],
   "source": []
  }
 ],
 "metadata": {
  "kernelspec": {
   "display_name": "Python 3",
   "language": "python",
   "name": "python3"
  },
  "language_info": {
   "codemirror_mode": {
    "name": "ipython",
    "version": 3
   },
   "file_extension": ".py",
   "mimetype": "text/x-python",
   "name": "python",
   "nbconvert_exporter": "python",
   "pygments_lexer": "ipython3",
   "version": "3.10.4"
  },
  "orig_nbformat": 4
 },
 "nbformat": 4,
 "nbformat_minor": 2
}
